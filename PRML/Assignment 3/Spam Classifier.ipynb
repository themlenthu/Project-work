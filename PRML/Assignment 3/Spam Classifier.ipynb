{
 "cells": [
  {
   "cell_type": "code",
   "execution_count": 215,
   "id": "b6063eb2",
   "metadata": {},
   "outputs": [],
   "source": [
    "import nltk\n",
    "import numpy as np\n",
    "import pandas as pd\n",
    "import sklearn \n",
    "import pickle\n",
    "import re\n",
    "import urllib.request\n",
    "import os\n",
    "import tarfile\n",
    "from sklearn.feature_extraction.text import CountVectorizer, TfidfTransformer, TfidfVectorizer\n",
    "from sklearn import model_selection\n",
    "from sklearn import svm\n",
    "from matplotlib import pyplot as plt"
   ]
  },
  {
   "cell_type": "markdown",
   "id": "9a069db2",
   "metadata": {},
   "source": [
    "## Download dataset"
   ]
  },
  {
   "cell_type": "code",
   "execution_count": 171,
   "id": "65ba1c48",
   "metadata": {},
   "outputs": [
    {
     "name": "stdout",
     "output_type": "stream",
     "text": [
      "Downloaded enron1.tar.gz\n",
      "Downloaded enron2.tar.gz\n",
      "Downloaded enron4.tar.gz\n"
     ]
    }
   ],
   "source": [
    "enron_url = 'http://nlp.cs.aueb.gr/software_and_datasets/Enron-Spam/preprocessed/'\n",
    "enron_files_train = ['enron1.tar.gz','enron2.tar.gz']\n",
    "enron_files_test = ['enron4.tar.gz']\n",
    "\n",
    "downloads = 'C:\\\\Users\\\\Krishna\\\\Downloads'\n",
    "enron_dir = os.path.join(downloads, 'Enron_dataset')\n",
    "\n",
    "if not os.path.exists(enron_dir):\n",
    "    os.makedirs(enron_dir)\n",
    "for file in enron_files_train:\n",
    "    path = os.path.join(enron_dir, file)\n",
    "    if not os.path.exists(path):\n",
    "        urllib.request.urlretrieve(enron_url + file, path) \n",
    "    print(\"Downloaded \"+file)\n",
    "    \n",
    "for file in enron_files_test:\n",
    "    path = os.path.join(enron_dir, file)\n",
    "    if not os.path.exists(path):\n",
    "        urllib.request.urlretrieve(enron_url + file, path) \n",
    "    print(\"Downloaded \"+file)"
   ]
  },
  {
   "cell_type": "markdown",
   "id": "f5aedb80",
   "metadata": {},
   "source": [
    "## Extracting"
   ]
  },
  {
   "cell_type": "code",
   "execution_count": 224,
   "id": "f301951e",
   "metadata": {},
   "outputs": [],
   "source": [
    "emails_df_test = pd.DataFrame({'message': [], 'class': []})\n",
    "for file in enron_files_test:\n",
    "    fname = os.path.join(enron_dir,file)\n",
    "    rows = []\n",
    "    tfile = tarfile.open(fname, 'r:gz')\n",
    "    for member in tfile.getmembers():\n",
    "        if 'ham' in member.name:\n",
    "            f = tfile.extractfile(member)\n",
    "            if f is not None:\n",
    "                row = f.read()\n",
    "                rows.append({'message': row, 'class': 'ham'})\n",
    "        if 'spam' in member.name:\n",
    "            f = tfile.extractfile(member)\n",
    "            if f is not None:\n",
    "                row = f.read()\n",
    "                rows.append({'message': row, 'class': 'spam'})\n",
    "    tfile.close()\n",
    "    emails_df_test = pd.concat([emails_df_test,pd.DataFrame(rows)])\n",
    "emails_df_test.to_pickle(enron_dir + \"/emails_test.pickle\")"
   ]
  },
  {
   "cell_type": "code",
   "execution_count": 225,
   "id": "630d2eda",
   "metadata": {},
   "outputs": [],
   "source": [
    "# Bytes to string\n",
    "if type(emails_df_test['message'][0]) == bytes:\n",
    "    emails_df_test['message'] = emails_df_test['message'].apply(lambda x: x.decode('latin-1'))\n",
    "    \n",
    "# Map 'spam' to 1 and 'ham' to 0.\n",
    "emails_df_test['class'] = emails_df_test['class'].map({'spam':1, 'ham':0})"
   ]
  },
  {
   "cell_type": "code",
   "execution_count": 226,
   "id": "81298ae6",
   "metadata": {},
   "outputs": [
    {
     "data": {
      "text/plain": [
       "0       Subject: re : quasi\\r\\ngood morning ,\\r\\ni ' d...\n",
       "1       Subject: enrononline desk to desk id and passw...\n",
       "2       Subject: david gray\\r\\nbill ,\\r\\nis this the d...\n",
       "3       Subject: re : monday blues\\r\\ngood morning . i...\n",
       "4       Subject: monday blues\\r\\nbill ,\\r\\ni am having...\n",
       "                              ...                        \n",
       "5995    Subject: re : v with you phara maceutical\\r\\nu...\n",
       "5996    Subject: check me out !\\r\\n61 bb\\r\\nhey derm\\r...\n",
       "5997    Subject: do you wish for a more active sex lif...\n",
       "5998    Subject: why didnt you say hi\\r\\nthere is this...\n",
       "5999    Subject: \\r\\nhtml\\r\\nbody\\r\\nb\\r\\npwhy not tak...\n",
       "Name: message, Length: 6000, dtype: object"
      ]
     },
     "execution_count": 226,
     "metadata": {},
     "output_type": "execute_result"
    }
   ],
   "source": [
    "emails_df_test['message']"
   ]
  },
  {
   "cell_type": "code",
   "execution_count": 238,
   "id": "49b7035e",
   "metadata": {},
   "outputs": [],
   "source": [
    "emails_df_train = pd.DataFrame({'message':[], 'class':[]})\n",
    "rows = []\n",
    "for file in enron_files_train:\n",
    "    #emails_df = pd.DataFrame({'message': [], 'class': []})\n",
    "    fname = os.path.join(enron_dir,file)\n",
    "    tfile = tarfile.open(fname, 'r:gz')\n",
    "    for member in tfile.getmembers():\n",
    "        if 'ham' in member.name:\n",
    "            f = tfile.extractfile(member)\n",
    "            if f is not None:\n",
    "                row = f.read()\n",
    "                rows.append({'message': row, 'class': 'ham'})\n",
    "        if 'spam' in member.name:\n",
    "            f = tfile.extractfile(member)\n",
    "            if f is not None:\n",
    "                row = f.read()\n",
    "                rows.append({'message': row, 'class': 'spam'})\n",
    "    tfile.close()\n",
    "\n",
    "emails_df_train = pd.concat([emails_df_train,pd.DataFrame(rows,index=None)])\n",
    "emails_df_train.to_pickle(enron_dir + \"/emails_train.pickle\")"
   ]
  },
  {
   "cell_type": "code",
   "execution_count": 239,
   "id": "dc0e64fe",
   "metadata": {},
   "outputs": [],
   "source": [
    "# Bytes to string\n",
    "if type(emails_df_train['message'][0]) == bytes:\n",
    "    emails_df_train['message'] = emails_df_train['message'].apply(lambda x: x.decode('latin-1'))\n",
    "    \n",
    "# Map 'spam' to 1 and 'ham' to 0.\n",
    "emails_df_train['class'] = emails_df_train['class'].map({'spam':1, 'ham':0})"
   ]
  },
  {
   "cell_type": "markdown",
   "id": "672664a1",
   "metadata": {},
   "source": [
    "## Preprocessing"
   ]
  },
  {
   "cell_type": "code",
   "execution_count": 237,
   "id": "2987d4ed",
   "metadata": {},
   "outputs": [],
   "source": [
    "from string import punctuation\n",
    "\n",
    "def preprocess_mails(email):\n",
    "    \n",
    "    email = email.lower()\n",
    "    \n",
    "    email = email.replace('\\r\\n', ' ')\n",
    "    email = email.translate(str.maketrans(\"\", \"\", punctuation))\n",
    "    \n",
    "    email = re.sub('[$]+', 'dollar', email)\n",
    "    email = re.sub('Rs|[₹]+', 'rupees', email)\n",
    "    email = re.sub('(http|https)\\S+', 'url', email)\n",
    "    email = re.sub('[a-z]+@[a-z]+', 'emailid', email)\n",
    "    email = re.sub('[0-9]+', '', email)\n",
    "    \n",
    "    email = \" \".join(email.split())\n",
    "    \n",
    "    return email"
   ]
  },
  {
   "cell_type": "code",
   "execution_count": 21,
   "id": "9014fcdd",
   "metadata": {},
   "outputs": [],
   "source": [
    "from nltk.stem import WordNetLemmatizer\n",
    "\n",
    "def lemmatize_mails(email_df):\n",
    "    \n",
    "    output = []\n",
    "    emails = email_df['message'].tolist()\n",
    "    for email in emails:\n",
    "        \n",
    "        email = preprocess_mails(email)\n",
    "\n",
    "        lemmatizer = WordNetLemmatizer()\n",
    "        lemmatized = []\n",
    "        tokens = email.split()\n",
    "\n",
    "        for word in tokens:\n",
    "            lemmatized.append(lemmatizer.lemmatize(word))\n",
    "\n",
    "        output.append(\" \".join(lemmatized))\n",
    "    return output"
   ]
  },
  {
   "cell_type": "markdown",
   "id": "5bcfb9f4",
   "metadata": {},
   "source": [
    "## Stop word removal"
   ]
  },
  {
   "cell_type": "code",
   "execution_count": 181,
   "id": "0317d1cc",
   "metadata": {},
   "outputs": [],
   "source": [
    "def feature_extraction(emails):\n",
    "    \n",
    "    tfidf = TfidfVectorizer()\n",
    "    tfidf.fit(emails)\n",
    "\n",
    "    df_idf = pd.DataFrame(tfidf.idf_, index = tfidf.get_feature_names(),columns=[\"idf\"]) \n",
    "    orderedWords = df_idf.sort_values(by=['idf'])  \n",
    "\n",
    "    print(\"Extracting and removing Stop-Words\")\n",
    "    stopwords = [orderedWords['idf'].index[i] for i in range(40)]\n",
    "    print(stopwords)\n",
    "\n",
    "    number_of_features = 4000\n",
    "\n",
    "    CV = CountVectorizer(stop_words = stopwords, max_features = number_of_features)\n",
    "    term_frequency_vector = CV.fit_transform(emails)\n",
    "    print(term_frequency_vector.shape)\n",
    "    \n",
    "    Top_features = term_frequency_vector.toarray()\n",
    "    \n",
    "    return Top_features,CV"
   ]
  },
  {
   "cell_type": "markdown",
   "id": "7bce60af",
   "metadata": {},
   "source": [
    "## Naive Bayes"
   ]
  },
  {
   "cell_type": "code",
   "execution_count": 71,
   "id": "700f77e6",
   "metadata": {},
   "outputs": [],
   "source": [
    "def NB(X_train, y_train, X_test):\n",
    "    \n",
    "    y_train = np.array(y_train)\n",
    "    spam_ind = np.where(y_train == 1)[0]\n",
    "    ham_ind = np.where(y_train == 0)[0]\n",
    "    tot = len(y_train)\n",
    "    spam = len(spam_ind)\n",
    "    ham = len(ham_ind)\n",
    "    p_spam = spam/tot\n",
    "    #print(p_spam)\n",
    "    p_ham = ham/tot\n",
    "    #print(p_ham)\n",
    "\n",
    "    spam_mails = X_train[spam_ind]\n",
    "    ham_mails = X_train[ham_ind]\n",
    "    \n",
    "    r = np.ones((1, X_train.shape[1]))\n",
    "    spam_mails = np.append(spam_mails, r , axis=0)\n",
    "    ham_mails = np.append(ham_mails, r , axis=0)\n",
    "    \n",
    "    spam_words = np.zeros(X_train.shape[1])\n",
    "    ham_words = np.zeros(X_train.shape[1])\n",
    "    \n",
    "\n",
    "    for mail in spam_mails:\n",
    "        spam_words = spam_words + mail\n",
    "    for mail in ham_mails:\n",
    "        ham_words = ham_words + mail\n",
    "\n",
    "    tot_spam_words = np.sum(spam_words)\n",
    "    tot_ham_words = np.sum(ham_words)\n",
    "\n",
    "    p_spam_word = []\n",
    "    p_ham_word = []\n",
    "\n",
    "    for i in range(spam_mails.shape[1]):\n",
    "        s = 0\n",
    "        for j in range(spam_mails.shape[0]):\n",
    "            s = s + spam_mails[j][i]\n",
    "        s = s/tot_spam_words\n",
    "        p_spam_word.append(s)\n",
    "\n",
    "    for i in range(ham_mails.shape[1]):\n",
    "        s = 0\n",
    "        for j in range(ham_mails.shape[0]):\n",
    "            s = s + ham_mails[j][i]\n",
    "        s = s/tot_ham_words\n",
    "        p_ham_word.append(s)\n",
    "\n",
    "    y_pred = []\n",
    "\n",
    "    for i in range(X_test.shape[0]):\n",
    "        p_test_spam = 0\n",
    "        p_test_ham = 0\n",
    "        for j in range(X_test.shape[1]):\n",
    "            if(X_test[i,j]!=0):\n",
    "                \n",
    "                p_test_spam += np.log(p_spam_word[j])\n",
    "\n",
    "                p_test_ham += np.log(p_ham_word[j])\n",
    "            \n",
    "        p_test_spam += np.log(p_spam)\n",
    "        p_test_ham += np.log(p_ham)\n",
    "        if(p_test_ham > p_test_spam):\n",
    "            y_pred.append(0)\n",
    "        else:\n",
    "            y_pred.append(1)\n",
    "\n",
    "    return y_pred"
   ]
  },
  {
   "cell_type": "code",
   "execution_count": 256,
   "id": "8799efa3",
   "metadata": {},
   "outputs": [
    {
     "name": "stdout",
     "output_type": "stream",
     "text": [
      "Extracting and removing Stop-Words\n",
      "['subject', 'to', 'the', 'for', 'and', 'you', 'of', 'on', 'is', 'in', 'this', 'have', 'be', 'with', 'your', 'we', 'from', 'that', 'please', 'will', 'at', 'are', 'if', 'it', 'by', 'enron', 'as', 'me', 'not', 'or', 'am', 'cc', 'can', '2000', 'thanks', 'our', 're', 'com', 'any', 'know']\n",
      "(11029, 4000)\n",
      "Extracting and removing Stop-Words\n",
      "['subject', 'to', 'the', 'for', 'and', 'you', 'of', 'on', 'is', 'in', 'this', 'have', 'be', 'with', 'your', 'we', 'from', 'that', 'please', 'will', 'at', 'are', 'if', 'it', 'by', 'enron', 'as', 'me', 'not', 'or', 'am', 'cc', 'can', '2000', 'thanks', 'our', 're', 'com', 'any', 'know']\n",
      "(11029, 4000)\n"
     ]
    }
   ],
   "source": [
    "X_train = lemmatize_mails(emails_df_train)\n",
    "X_test = lemmatize_mails(emails_df_test)\n",
    "X_train_vector = feature_extraction(emails_df_train['message'])[0]\n",
    "CV = feature_extraction(emails_df_train['message'])[1]\n",
    "X_test_vector = CV.transform(emails_df_test['message'])\n",
    "X_test_vector = X_test_vector.toarray()\n",
    "y_train = emails_df_train['class'].to_list()"
   ]
  },
  {
   "cell_type": "code",
   "execution_count": 241,
   "id": "20fe8a5b",
   "metadata": {},
   "outputs": [],
   "source": [
    "y_pred = NB(X_train_vector, y_train, X_test_vector)"
   ]
  },
  {
   "cell_type": "code",
   "execution_count": 242,
   "id": "5a945223",
   "metadata": {},
   "outputs": [
    {
     "data": {
      "text/plain": [
       "94.88333333333333"
      ]
     },
     "execution_count": 242,
     "metadata": {},
     "output_type": "execute_result"
    }
   ],
   "source": [
    "def accuracy(orig, pred):\n",
    "    return (1 - (np.sum(abs(orig-pred)))/len(pred))*100\n",
    "accuracy(np.array(emails_df_test['class']),np.array(y_pred))"
   ]
  },
  {
   "cell_type": "code",
   "execution_count": 243,
   "id": "f290d9ca",
   "metadata": {},
   "outputs": [
    {
     "name": "stdout",
     "output_type": "stream",
     "text": [
      "96.46666666666667\n"
     ]
    }
   ],
   "source": [
    "from sklearn.naive_bayes import BernoulliNB\n",
    "clf = BernoulliNB()\n",
    "clf.fit(X_train_vector, y_train)\n",
    "print(accuracy(np.array(emails_df_test['class']), clf.predict(X_test_vector)))"
   ]
  },
  {
   "cell_type": "markdown",
   "id": "10a2addd",
   "metadata": {},
   "source": [
    "## SVM"
   ]
  },
  {
   "cell_type": "code",
   "execution_count": 245,
   "id": "2663bb74",
   "metadata": {},
   "outputs": [],
   "source": [
    "acc = []\n",
    "for c in range(1,10):\n",
    "    model = svm.SVC(C=c)\n",
    "    model.fit(X_train_vector, y_train)\n",
    "    acc.append(accuracy(np.array(emails_df_test['class']), model.predict(X_test_vector)))"
   ]
  },
  {
   "cell_type": "code",
   "execution_count": 266,
   "id": "bc03105d",
   "metadata": {},
   "outputs": [
    {
     "name": "stdout",
     "output_type": "stream",
     "text": [
      "Max accuracy obtained for C = 4\n"
     ]
    },
    {
     "data": {
      "image/png": "[encoded data removed]",
      "text/plain": [
       "<Figure size 432x288 with 1 Axes>"
      ]
     },
     "metadata": {
      "needs_background": "light"
     },
     "output_type": "display_data"
    }
   ],
   "source": [
    "crange = list(range(1,10))\n",
    "plt.plot(crange, acc)\n",
    "plt.title('Accuracy v/s C plot')\n",
    "plt.xlabel(\"C\")\n",
    "plt.ylabel('Accuracy')\n",
    "print(f\"Max accuracy obtained for C = {crange[acc.index(max(acc))]}\")"
   ]
  },
  {
   "cell_type": "code",
   "execution_count": 249,
   "id": "5e6b220d",
   "metadata": {},
   "outputs": [
    {
     "name": "stdout",
     "output_type": "stream",
     "text": [
      "91.7\n"
     ]
    }
   ],
   "source": [
    "model = svm.SVC(C=4)\n",
    "model.fit(X_train_vector, y_train)\n",
    "print(accuracy(np.array(emails_df_test['class']), model.predict(X_test_vector)))"
   ]
  },
  {
   "cell_type": "markdown",
   "id": "f1a82ba4",
   "metadata": {},
   "source": [
    "## Testing \n",
    "Run all the previous cells and then run the following to get predictions"
   ]
  },
  {
   "cell_type": "code",
   "execution_count": 262,
   "id": "c90e3ca7",
   "metadata": {},
   "outputs": [],
   "source": [
    "import os\n",
    "import glob\n",
    "\n",
    "def test_mails(mod = 'NB'):\n",
    "    \n",
    "    root = os.getcwd() \n",
    "    test_dir = os.path.join(root,'test') # add the test mails in the test folder\n",
    "    \n",
    "    row = []\n",
    "    if not os.path.exists(test_dir):\n",
    "        os.makedirs(test_dir) # add the test mails in the test folder\n",
    "    for file in os.listdir(test_dir):\n",
    "        path = os.path.join(test_dir,file)\n",
    "        f = open(path,'r')\n",
    "        test_mail = f.read()\n",
    "        row.append(test_mail)\n",
    "    \n",
    "    test_mails_df = pd.DataFrame({'message':row})\n",
    "    test_mail_lemmatize = lemmatize_mails(test_mails_df)\n",
    "    feature_vec_test = CV.transform(test_mail_lemmatize)\n",
    "    \n",
    "    ypred = NB(X_train_vector, y_train, feature_vec_test)\n",
    "    return ypred"
   ]
  },
  {
   "cell_type": "code",
   "execution_count": 261,
   "id": "3d5b3179",
   "metadata": {},
   "outputs": [],
   "source": [
    "y = test_mails('NB')"
   ]
  },
  {
   "cell_type": "code",
   "execution_count": 263,
   "id": "a9f89c9d",
   "metadata": {},
   "outputs": [
    {
     "name": "stdout",
     "output_type": "stream",
     "text": [
      "[1, 0]\n"
     ]
    }
   ],
   "source": [
    "print(y)"
   ]
  }
 ],
 "metadata": {
  "kernelspec": {
   "display_name": "Python 3 (ipykernel)",
   "language": "python",
   "name": "python3"
  },
  "language_info": {
   "codemirror_mode": {
    "name": "ipython",
    "version": 3
   },
   "file_extension": ".py",
   "mimetype": "text/x-python",
   "name": "python",
   "nbconvert_exporter": "python",
   "pygments_lexer": "ipython3",
   "version": "3.9.7"
  }
 },
 "nbformat": 4,
 "nbformat_minor": 5
}
