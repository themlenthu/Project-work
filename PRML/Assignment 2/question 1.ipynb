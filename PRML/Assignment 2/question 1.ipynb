{
 "cells": [
  {
   "cell_type": "code",
   "execution_count": 3,
   "id": "89b27b17",
   "metadata": {},
   "outputs": [],
   "source": [
    "import numpy as np\n",
    "import pandas as pd\n",
    "import random \n",
    "import matplotlib.pyplot as plt"
   ]
  },
  {
   "cell_type": "code",
   "execution_count": 58,
   "id": "649a4ba3",
   "metadata": {},
   "outputs": [],
   "source": [
    "X_df = pd.read_csv('C:\\\\Users\\\\Krishna\\\\IIT MADRAS\\\\PRML\\\\Assignment 2\\\\A2Data_train.csv',header = None)\n",
    "\n",
    "y_train = np.array(X_df.iloc[:,-1]).reshape(10000,1)\n",
    "X_train = np.array(X_df.iloc[:,:-1].T)"
   ]
  },
  {
   "cell_type": "markdown",
   "id": "8ab51a9e",
   "metadata": {},
   "source": [
    "## i"
   ]
  },
  {
   "cell_type": "code",
   "execution_count": 59,
   "id": "07cb2a97",
   "metadata": {},
   "outputs": [
    {
     "name": "stdout",
     "output_type": "stream",
     "text": [
      "[[-7.84961009e-03]\n",
      " [-1.36715320e-02]\n",
      " [-3.61656438e-03]\n",
      " [ 2.64909160e-03]\n",
      " [ 1.88551446e-01]\n",
      " [ 2.65314657e-03]\n",
      " [ 9.46531786e-03]\n",
      " [ 1.79809481e-01]\n",
      " [ 3.73757317e-03]\n",
      " [ 4.99608944e-01]\n",
      " [ 8.35836265e-03]\n",
      " [ 4.29108775e-03]\n",
      " [ 1.42141179e-02]\n",
      " [ 3.94232414e-03]\n",
      " [ 9.36795890e-03]\n",
      " [-1.12038274e-03]\n",
      " [ 3.35727500e-03]\n",
      " [ 1.16152212e-03]\n",
      " [-9.40884707e-03]\n",
      " [-2.45575476e-03]\n",
      " [-1.17409629e-02]\n",
      " [-1.01960612e-02]\n",
      " [ 7.95771321e-03]\n",
      " [-1.00574854e-02]\n",
      " [ 6.04882939e-03]\n",
      " [-4.67345192e-03]\n",
      " [-3.09091547e-03]\n",
      " [ 8.14909193e-03]\n",
      " [ 1.20264599e-02]\n",
      " [-6.82458163e-03]\n",
      " [-8.65405539e-03]\n",
      " [ 9.86273479e-04]\n",
      " [ 4.92968011e-03]\n",
      " [ 5.99772461e-03]\n",
      " [-1.34667860e-02]\n",
      " [ 1.07075729e-03]\n",
      " [ 1.32745992e-02]\n",
      " [-1.14148742e-02]\n",
      " [-2.01056697e-02]\n",
      " [ 5.85096240e-01]\n",
      " [ 4.94483247e-04]\n",
      " [-7.86666920e-04]\n",
      " [-2.71926574e-03]\n",
      " [-9.54021938e-03]\n",
      " [-5.44161058e-03]\n",
      " [ 9.80679209e-03]\n",
      " [-6.72540624e-03]\n",
      " [-4.45414276e-04]\n",
      " [ 6.98516508e-03]\n",
      " [ 3.16138907e-02]\n",
      " [ 4.51763485e-01]\n",
      " [-8.75221380e-03]\n",
      " [ 2.55167390e-03]\n",
      " [ 4.24921150e-03]\n",
      " [ 2.89847927e-01]\n",
      " [ 7.03723255e-03]\n",
      " [-1.95796946e-03]\n",
      " [ 1.41523883e-02]\n",
      " [-1.06508170e-02]\n",
      " [ 7.72743903e-01]\n",
      " [-5.67126044e-03]\n",
      " [-6.30026188e-04]\n",
      " [ 6.50943015e-03]\n",
      " [-4.84019165e-03]\n",
      " [ 4.63832329e-03]\n",
      " [ 4.54887177e-03]\n",
      " [-2.99475114e-03]\n",
      " [ 8.38781696e-03]\n",
      " [-2.47558716e-03]\n",
      " [ 9.00947922e-04]\n",
      " [ 1.14713514e-03]\n",
      " [-1.87641345e-03]\n",
      " [-1.05175760e-02]\n",
      " [-9.31304110e-03]\n",
      " [-1.23550002e-03]\n",
      " [ 5.97797559e-01]\n",
      " [-4.78625013e-03]\n",
      " [-1.13727852e-02]\n",
      " [ 2.88477060e-03]\n",
      " [ 8.48999776e-01]\n",
      " [-1.08924235e-02]\n",
      " [ 2.26346489e-03]\n",
      " [-1.38099800e-03]\n",
      " [-6.35934691e-03]\n",
      " [ 5.83784109e-03]\n",
      " [ 5.69286755e-03]\n",
      " [ 5.35566859e-03]\n",
      " [-8.20616315e-03]\n",
      " [ 1.29884015e-02]\n",
      " [-2.30575631e-03]\n",
      " [-1.22263765e-04]\n",
      " [ 8.66629171e-03]\n",
      " [-4.29446300e-03]\n",
      " [ 5.69510898e-03]\n",
      " [ 7.55483353e-03]\n",
      " [-9.43540843e-03]\n",
      " [ 1.82905446e-02]\n",
      " [-1.16998887e-03]\n",
      " [-2.61599136e-03]\n",
      " [-8.58616114e-03]]\n"
     ]
    }
   ],
   "source": [
    "cov = X_train@X_train.T\n",
    "inv_cov = np.linalg.inv(cov)\n",
    "w_ml = (inv_cov)@(X_train)@(y_train)\n",
    "print(w_ml)"
   ]
  },
  {
   "cell_type": "markdown",
   "id": "207afbaa",
   "metadata": {},
   "source": [
    "## ii"
   ]
  },
  {
   "cell_type": "code",
   "execution_count": 84,
   "id": "6dc68bd7",
   "metadata": {},
   "outputs": [],
   "source": [
    "def del_f(X, y, w):\n",
    "    return 2*((X@X.T@w) - (X@y))\n",
    "\n",
    "def grad_desc(X, y, w_ini, e=1e-5, lr=3e-6, max_iter=1e5):\n",
    "    w_t = []\n",
    "    grad = del_f(X,y,w_ini)\n",
    "    w_fin = w_ini\n",
    "    iter_ = 0\n",
    "    \n",
    "    while np.linalg.norm(grad) >= e and iter_ <= max_iter:\n",
    "        w = w_fin\n",
    "        w_fin = w - lr*grad\n",
    "        w_t.append(w_fin)\n",
    "        grad = del_f(X,y,w_fin)\n",
    "        iter_ += 1\n",
    "    \n",
    "    return w_t"
   ]
  },
  {
   "cell_type": "code",
   "execution_count": 85,
   "id": "ded8963d",
   "metadata": {},
   "outputs": [],
   "source": [
    "w_ini = np.zeros((100,1))\n",
    "w_t = grad_desc(X_train, y_train, w_ini)\n",
    "err = [np.linalg.norm(i - w_ml) for i in w_t]\n"
   ]
  },
  {
   "cell_type": "code",
   "execution_count": 86,
   "id": "f76e774e",
   "metadata": {},
   "outputs": [
    {
     "name": "stdout",
     "output_type": "stream",
     "text": [
      "7.123031631794149e-09 at iteration = 4336\n"
     ]
    },
    {
     "data": {
      "image/png": "[encoded data removed]",
      "text/plain": [
       "<Figure size 432x288 with 1 Axes>"
      ]
     },
     "metadata": {
      "needs_background": "light"
     },
     "output_type": "display_data"
    }
   ],
   "source": [
    "plt.plot(err)\n",
    "plt.xlabel('Iterations')\n",
    "plt.ylabel('||wt - wml||')\n",
    "plt.grid('on')\n",
    "plt.title('Gradient Descent')\n",
    "print(err[-1],'at iteration =',len(err))\n",
    "plt.show()"
   ]
  },
  {
   "cell_type": "code",
   "execution_count": 89,
   "id": "bf09dd51",
   "metadata": {},
   "outputs": [
    {
     "name": "stdout",
     "output_type": "stream",
     "text": [
      "396.8644186272515\n",
      "396.86441862725167\n"
     ]
    }
   ],
   "source": [
    "def loss(X, y, w):\n",
    "    return np.linalg.norm(X.T@w - y)**2\n",
    "\n",
    "print(loss(X_train, y_train, w_ml))\n",
    "print(loss(X_train, y_train, w_t[-1]))"
   ]
  },
  {
   "cell_type": "markdown",
   "id": "111c5442",
   "metadata": {},
   "source": [
    "## iii"
   ]
  },
  {
   "cell_type": "code",
   "execution_count": 90,
   "id": "5ac0b110",
   "metadata": {},
   "outputs": [],
   "source": [
    "def del_f(X, y, w):\n",
    "    return 2*((X@X.T@w) - (X@y))\n",
    "\n",
    "def stoch_grad_desc(X, y, w_ini, e=1e-5, lr=2e-4, max_iter=1e5):\n",
    "    err = []\n",
    "    idx_batch = random.sample(list(range(10000)),100)\n",
    "    X_batch = X[:,idx_batch]\n",
    "    y_batch = y[idx_batch]\n",
    "    grad = del_f(X_batch,y_batch,w_ini)\n",
    "    w_fin = w_ini\n",
    "    ite = 1\n",
    "    w_sgd = np.zeros((X.shape[0],1))\n",
    "    \n",
    "    while np.linalg.norm(grad) >= e and ite <= max_iter:\n",
    "        w_fin = w_fin - lr*grad\n",
    "        w_sgd = (w_sgd*(ite-1) + w_fin)/ite\n",
    "        err.append(np.linalg.norm(w_sgd-w_ml))\n",
    "        idx_batch = random.sample(list(range(10000)),100)\n",
    "        X_batch = X[:,idx_batch]\n",
    "        y_batch = y[idx_batch]\n",
    "        grad = del_f(X_batch,y_batch,w_fin)\n",
    "        ite += 1\n",
    "    \n",
    "    return err,w_sgd"
   ]
  },
  {
   "cell_type": "code",
   "execution_count": 92,
   "id": "3eab1353",
   "metadata": {},
   "outputs": [],
   "source": [
    "w_ini = np.zeros((100,1))\n",
    "err_stoc,w_sgd = stoch_grad_desc(X_train, y_train, w_ini)"
   ]
  },
  {
   "cell_type": "code",
   "execution_count": 93,
   "id": "fee23eee",
   "metadata": {},
   "outputs": [
    {
     "name": "stdout",
     "output_type": "stream",
     "text": [
      "0.005467313880430703 at iteration = 100000\n"
     ]
    },
    {
     "data": {
      "image/png": "[encoded data removed]",
      "text/plain": [
       "<Figure size 432x288 with 1 Axes>"
      ]
     },
     "metadata": {
      "needs_background": "light"
     },
     "output_type": "display_data"
    }
   ],
   "source": [
    "plt.plot(err_stoc)\n",
    "plt.xlabel('Iterations')\n",
    "plt.ylabel('||wt - wml||')\n",
    "plt.grid('on')\n",
    "plt.title('Stochastic Gradient Descent')\n",
    "print(err_stoc[-1],'at iteration =',len(err_stoc))\n",
    "plt.show()"
   ]
  },
  {
   "cell_type": "code",
   "execution_count": 94,
   "id": "f985385f",
   "metadata": {},
   "outputs": [
    {
     "data": {
      "text/plain": [
       "396.8886025212374"
      ]
     },
     "execution_count": 94,
     "metadata": {},
     "output_type": "execute_result"
    }
   ],
   "source": [
    "loss(X_train, y_train, w_sgd)"
   ]
  }
 ],
 "metadata": {
  "kernelspec": {
   "display_name": "Python 3 (ipykernel)",
   "language": "python",
   "name": "python3"
  },
  "language_info": {
   "codemirror_mode": {
    "name": "ipython",
    "version": 3
   },
   "file_extension": ".py",
   "mimetype": "text/x-python",
   "name": "python",
   "nbconvert_exporter": "python",
   "pygments_lexer": "ipython3",
   "version": "3.9.7"
  }
 },
 "nbformat": 4,
 "nbformat_minor": 5
}
