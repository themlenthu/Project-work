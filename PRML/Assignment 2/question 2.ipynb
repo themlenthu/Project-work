{
 "cells": [
  {
   "cell_type": "code",
   "execution_count": 56,
   "id": "b820b70f",
   "metadata": {},
   "outputs": [],
   "source": [
    "import numpy as np\n",
    "import pandas as pd\n",
    "import random \n",
    "import matplotlib.pyplot as plt"
   ]
  },
  {
   "cell_type": "code",
   "execution_count": 47,
   "id": "70c3d02d",
   "metadata": {},
   "outputs": [],
   "source": [
    "X_train = pd.read_csv('C:\\\\Users\\\\Krishna\\\\IIT MADRAS\\\\PRML\\\\Assignment 2\\\\A2Data_train.csv',header = None)\n",
    "X_test = pd.read_csv('C:\\\\Users\\\\Krishna\\\\IIT MADRAS\\\\PRML\\\\Assignment 2\\\\A2Data_test.csv',header = None)\n",
    "\n",
    "y_train = np.array(X_train.iloc[:,-1]).reshape(10000,1)\n",
    "X_train = np.array(X_train.iloc[:,:-1].T)\n",
    "y_test = np.array(X_test.iloc[:,-1]).reshape(500,1)\n",
    "X_test = np.array(X_test.iloc[:,:-1].T)"
   ]
  },
  {
   "cell_type": "markdown",
   "id": "d1866aea",
   "metadata": {},
   "source": [
    "## i"
   ]
  },
  {
   "cell_type": "code",
   "execution_count": 90,
   "id": "5e48ac75",
   "metadata": {},
   "outputs": [],
   "source": [
    "def del_f(X, y, w):\n",
    "    return 2*((X@X.T@w) - (X@y))\n",
    "\n",
    "def grad_desc(X, y, w_ini, e=1e-5, lr=2e-6, max_iter=1e5):\n",
    "    \n",
    "    grad = del_f(X,y,w_ini)\n",
    "    w_fin = w_ini\n",
    "    iter_ = 0\n",
    "    \n",
    "    while np.linalg.norm(grad) >= e and iter_ <= max_iter:\n",
    "        w = w_fin\n",
    "        w_fin = w - lr*grad\n",
    "        grad = del_f(X,y,w_fin)\n",
    "        iter_ += 1\n",
    "    \n",
    "    return w_fin"
   ]
  },
  {
   "cell_type": "code",
   "execution_count": 92,
   "id": "f8a0970b",
   "metadata": {},
   "outputs": [],
   "source": [
    "def del_f_ridge(X, y, w, lam):\n",
    "    return 2*((X@X.T@w) - (X@y) + lam*w)\n",
    "\n",
    "def grad_desc_ridge(X, y, w_ini, lam, e=1e-5, lr=2e-6, max_iter=1e5):\n",
    "    \n",
    "    grad = del_f_ridge(X,y,w_ini,lam)\n",
    "    w_fin = w_ini\n",
    "    iter_ = 0\n",
    "    \n",
    "    while np.linalg.norm(grad) >= e and iter_ <= max_iter:\n",
    "        w = w_fin\n",
    "        w_fin = w - lr*grad\n",
    "        grad = del_f_ridge(X,y,w_fin,lam)\n",
    "        iter_ += 1\n",
    "    \n",
    "    return w_fin\n",
    "\n",
    "def err_ridge(X, y, w_fin, lam):\n",
    "    return np.linalg.norm(X.T@w_fin - y)**2 + lam*np.linalg.norm(w_fin)**2\n",
    "\n",
    "def loss(X, y, w):\n",
    "    return np.linalg.norm(X.T@w - y)**2"
   ]
  },
  {
   "cell_type": "markdown",
   "id": "649fb312",
   "metadata": {},
   "source": [
    "## ii"
   ]
  },
  {
   "cell_type": "code",
   "execution_count": 81,
   "id": "0e8c2e42",
   "metadata": {},
   "outputs": [],
   "source": [
    "def kfold_split(X, y, k, num):\n",
    "    cols = X.shape[1]\n",
    "    idx_test = list(range((num-1)*cols//k, num*cols//k))\n",
    "    idx_train = list(set(range(0,cols))-set(idx_test))\n",
    "    test_X = X[:,idx_test]\n",
    "    test_y = y[idx_test]\n",
    "    train_X = X[:,idx_train]\n",
    "    train_y = y[idx_train]\n",
    "    return train_X, train_y, test_X, test_y\n",
    "    \n",
    "def kfold_ridge(X, y, w, lam_list, k=5):\n",
    "    cv_err = []\n",
    "    for lam in lam_list:\n",
    "        cv_loss = 0\n",
    "        for fold in range(1,k+1):\n",
    "            train_X, train_y, test_X, test_y = kfold_split(X, y, k ,fold)\n",
    "            w_fin = grad_desc_ridge(train_X, train_y, w, lam)\n",
    "            cv_loss += loss(test_X, test_y, w_fin)\n",
    "        cv_err.append(cv_loss)\n",
    "    return cv_err"
   ]
  },
  {
   "cell_type": "code",
   "execution_count": 97,
   "id": "b61ace27",
   "metadata": {},
   "outputs": [],
   "source": [
    "lam_list = np.arange(1,2.5,0.1)\n",
    "w_ini = np.ones((100,1))\n",
    "cv_error = kfold_ridge(X_train, y_train, w_ini, lam_list)"
   ]
  },
  {
   "cell_type": "code",
   "execution_count": 98,
   "id": "06399cbe",
   "metadata": {},
   "outputs": [
    {
     "name": "stdout",
     "output_type": "stream",
     "text": [
      "Optimal lambda = 2.000000000000001\n"
     ]
    },
    {
     "data": {
      "image/png": "[encoded data removed]",
      "text/plain": [
       "<Figure size 432x288 with 1 Axes>"
      ]
     },
     "metadata": {
      "needs_background": "light"
     },
     "output_type": "display_data"
    }
   ],
   "source": [
    "final_lam = lam_list[cv_error.index(min(cv_error))]\n",
    "plt.plot(lam_list,cv_error)\n",
    "print('Optimal lambda =',final_lam)\n",
    "plt.xlabel('lambda')\n",
    "plt.ylabel('validation error')\n",
    "plt.title('Validation error v/s lambda')\n",
    "plt.show()"
   ]
  },
  {
   "cell_type": "code",
   "execution_count": 99,
   "id": "20e94dba",
   "metadata": {},
   "outputs": [],
   "source": [
    "w_r = grad_desc_ridge(X_train, y_train, w_ini, final_lam)\n",
    "w_ml = grad_desc(X_train, y_train, w_ini)"
   ]
  },
  {
   "cell_type": "code",
   "execution_count": 100,
   "id": "f4b9b559",
   "metadata": {},
   "outputs": [
    {
     "name": "stdout",
     "output_type": "stream",
     "text": [
      "0.3698822679778238\n",
      "0.37072731043925455\n"
     ]
    }
   ],
   "source": [
    "print(loss(X_test, y_test, w_r)/X_test.shape[1])\n",
    "print(loss(X_test, y_test, w_ml)/X_test.shape[1])"
   ]
  }
 ],
 "metadata": {
  "kernelspec": {
   "display_name": "Python 3 (ipykernel)",
   "language": "python",
   "name": "python3"
  },
  "language_info": {
   "codemirror_mode": {
    "name": "ipython",
    "version": 3
   },
   "file_extension": ".py",
   "mimetype": "text/x-python",
   "name": "python",
   "nbconvert_exporter": "python",
   "pygments_lexer": "ipython3",
   "version": "3.9.7"
  }
 },
 "nbformat": 4,
 "nbformat_minor": 5
}
